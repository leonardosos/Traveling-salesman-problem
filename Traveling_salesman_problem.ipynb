{
  "nbformat": 4,
  "nbformat_minor": 0,
  "metadata": {
    "colab": {
      "provenance": []
    },
    "kernelspec": {
      "name": "python3",
      "display_name": "Python 3"
    },
    "language_info": {
      "name": "python"
    }
  },
  "cells": [
    {
      "cell_type": "markdown",
      "source": [
        "# Dataset\n"
      ],
      "metadata": {
        "id": "H0KwVpWBVbMs"
      }
    },
    {
      "cell_type": "markdown",
      "source": [
        "## Generator of dataset into txt file\n"
      ],
      "metadata": {
        "id": "hyTVgl9ghs8c"
      }
    },
    {
      "cell_type": "code",
      "source": [
        "# Force to overwritten txt file\n",
        "# True -> overwritten\n",
        "\n",
        "force = True"
      ],
      "metadata": {
        "id": "-pGf0J_v7CGg"
      },
      "execution_count": null,
      "outputs": []
    },
    {
      "cell_type": "code",
      "source": [
        "import random\n",
        "import os\n",
        "\n",
        "def create_dataset_file(num_customers):\n",
        "\n",
        "  # Generate random time windows.\n",
        "  time_windows = []\n",
        "  for i in range(num_customers+1):\n",
        "    start_time = random.randint(0, 30)\n",
        "    end_time = random.randint(start_time+20, 100)\n",
        "    time_windows.append([start_time, end_time])\n",
        "\n",
        "  # Create a symmetric time matrix.\n",
        "  num_matrix = num_customers+1\n",
        "  time_matrix = [[0 for i in range(num_matrix)] for j in range(num_matrix)]\n",
        "  for i in range(num_matrix):\n",
        "    for j in range(num_matrix):\n",
        "      if i == j:\n",
        "        time_matrix[i][j] = 0\n",
        "      elif i < j:\n",
        "        time_matrix[i][j] = abs(random.randint(1,10))\n",
        "      else:\n",
        "        time_matrix[i][j] = time_matrix[j][i]\n",
        "\n",
        "  # Create the .txt file.\n",
        "  file_contents = f\"#N => number of customers\\n{num_customers}\\n\\n\"\n",
        "  file_contents += \"#[ai, bi] => Time windows\\n\"\n",
        "  time_windows.pop(-1)\n",
        "  for time_window in time_windows:\n",
        "    file_contents += f\"{time_window[0]} {time_window[1]}\\n\"\n",
        "\n",
        "  file_contents += \"\\n#T => time matrix\\n\"\n",
        "  for row in time_matrix:\n",
        "    file_contents += \" \".join([str(element) for element in row]) + \"\\n\"\n",
        "\n",
        "  return file_contents\n",
        "\n",
        "\n",
        "num_customers = 5  # <-----------------------------------------------\n",
        "\n",
        "# Create the dataset\n",
        "file_contents = create_dataset_file(num_customers=num_customers)\n",
        "name_file = f\"Dataset_{num_customers}.txt\"\n",
        "\n",
        "# Write the file contents to a .txt file, if it not already exist\n",
        "if not os.path.exists(name_file) or force:\n",
        "  if os.path.exists(name_file):\n",
        "    print(name_file, \" found and it will BE overwritten.\")\n",
        "  else:\n",
        "    print(name_file, \" generated.\")\n",
        "  with open(name_file, \"w\") as f:\n",
        "    f.write(file_contents)\n",
        "else:\n",
        "  print(name_file, \" found and it will NOT BE overwritten.\")"
      ],
      "metadata": {
        "colab": {
          "base_uri": "https://localhost:8080/"
        },
        "id": "j7zaV6XxhsVZ",
        "outputId": "d967f0ea-51a0-4b60-d0f5-fb4dc9c03956"
      },
      "execution_count": null,
      "outputs": [
        {
          "output_type": "stream",
          "name": "stdout",
          "text": [
            "Dataset_5.txt  generated.\n"
          ]
        }
      ]
    },
    {
      "cell_type": "markdown",
      "source": [
        "## Load data from txt instance"
      ],
      "metadata": {
        "id": "qs88UkZsW3bV"
      }
    },
    {
      "cell_type": "code",
      "source": [
        "# Define filename to be read\n",
        "name_file = f\"Dataset_{num_customers}.txt\"\n",
        "\n",
        "# For use a specific dataset\n",
        "#name_file = 'tsp-tw_instance_5.txt'\n",
        "#num_customers = 5"
      ],
      "metadata": {
        "id": "z-qKHmrJwzRk"
      },
      "execution_count": null,
      "outputs": []
    },
    {
      "cell_type": "code",
      "execution_count": null,
      "metadata": {
        "id": "7zDvOG74Wprw"
      },
      "outputs": [],
      "source": [
        "with open(name_file, \"r\") as f:\n",
        "  lines = f.readlines()\n",
        "\n",
        "  # Total numbers of customers\n",
        "  N = int(lines[1])\n",
        "\n",
        "  # Time windows\n",
        "  placeholder = 4\n",
        "  max_line = placeholder + N\n",
        "\n",
        "  time_windows = []\n",
        "  temp = []\n",
        "\n",
        "  for i in range(placeholder, max_line):\n",
        "   temp.append(lines[i].split())\n",
        "\n",
        "  for i in temp:\n",
        "    ai ,bi = i\n",
        "    ai, bi = int(ai), int(bi)\n",
        "    time_windows.append((ai,bi))\n",
        "\n",
        "  # Cost matrix\n",
        "  placeholder = 4+N+2\n",
        "  max_line = placeholder + N +1 #Add depot\n",
        "\n",
        "  cost_matrix = []\n",
        "\n",
        "  for i in range(placeholder, max_line):\n",
        "\n",
        "    temp2 = []\n",
        "\n",
        "    for num in lines[i].split():\n",
        "      temp2.append(int(num))\n",
        "\n",
        "    cost_matrix.append(temp2)"
      ]
    },
    {
      "cell_type": "code",
      "source": [
        "# Printing of read file\n",
        "print('Number of customers: ',N)\n",
        "print('--------------------------')\n",
        "print('Time windows for each customer:')\n",
        "for i in time_windows:\n",
        "  print(i)\n",
        "print('--------------------------')\n",
        "print('Cost matrix:')\n",
        "for i in cost_matrix:\n",
        "  print(i)"
      ],
      "metadata": {
        "colab": {
          "base_uri": "https://localhost:8080/"
        },
        "id": "WGZZCyet0aHU",
        "outputId": "64bb4cc2-904a-4ee6-fb21-0a0032c36e28"
      },
      "execution_count": null,
      "outputs": [
        {
          "output_type": "stream",
          "name": "stdout",
          "text": [
            "Number of customers:  5\n",
            "--------------------------\n",
            "Time windows for each customer:\n",
            "(5, 80)\n",
            "(19, 81)\n",
            "(16, 64)\n",
            "(23, 44)\n",
            "(26, 99)\n",
            "--------------------------\n",
            "Cost matrix:\n",
            "[0, 9, 10, 7, 4, 3]\n",
            "[9, 0, 8, 9, 8, 1]\n",
            "[10, 8, 0, 1, 8, 3]\n",
            "[7, 9, 1, 0, 3, 6]\n",
            "[4, 8, 8, 3, 0, 6]\n",
            "[3, 1, 3, 6, 6, 0]\n"
          ]
        }
      ]
    },
    {
      "cell_type": "markdown",
      "source": [
        "# PuLP Implementation"
      ],
      "metadata": {
        "id": "6y5ld74fE6O9"
      }
    },
    {
      "cell_type": "markdown",
      "source": [
        "## Usefull function"
      ],
      "metadata": {
        "id": "L9SgNcMlFIOM"
      }
    },
    {
      "cell_type": "code",
      "source": [
        "# Function that store messages and print it\n",
        "def print_and_store(message, only_store=False):\n",
        "    if not only_store:\n",
        "      print(message)\n",
        "    messages.append(message)"
      ],
      "metadata": {
        "id": "_8PIJPZz4Jas"
      },
      "execution_count": null,
      "outputs": []
    },
    {
      "cell_type": "code",
      "source": [
        "# Function that create a log file\n",
        "def save_optimization_results(number_customers, name_heuristic, status, objective_value, computing_time, messages):\n",
        "    variables = \"\\n\".join(messages)\n",
        "\n",
        "    results_str = (\n",
        "        f\"Instance Name: {name_heuristic}\\n\"\n",
        "        f\"Number of Clients: {number_customers}\\n\"\n",
        "        f\"Status: {status}\\n\"\n",
        "        f\"Objective Function Value: {objective_value if objective_value is not None else 'N/A'}\\n\"\n",
        "        f\"Computing Time: {computing_time} seconds\\n\"\n",
        "        f\"Variables' Values:\\n\"\n",
        "        f\"------------------------------------------------\\n\"\n",
        "        f\"\\n{variables if variables else 'N/A'}\"\n",
        "    )\n",
        "\n",
        "    file_name = f\"{name_heuristic}_{number_customers}.txt\"\n",
        "\n",
        "    with open(file_name, 'w') as file:\n",
        "        file.write(results_str)"
      ],
      "metadata": {
        "id": "c8gB3j2z5jlx"
      },
      "execution_count": null,
      "outputs": []
    },
    {
      "cell_type": "code",
      "source": [
        "# Print tour\n",
        "\n",
        "def printTour(tour_vars):\n",
        "\n",
        "  tour = ['0']\n",
        "  temp_list = tour_vars.copy()\n",
        "\n",
        "  while temp_list:\n",
        "\n",
        "    for val in temp_list:\n",
        "      # Get the starting and ending points of the tour node.\n",
        "      start_point = val.split(\"_\")[1]\n",
        "      end_point = val.split(\"_\")[-1]\n",
        "\n",
        "      # Add the starting point to the tour.\n",
        "      if start_point == tour[-1]:\n",
        "        tour.append(end_point)\n",
        "        temp_list.remove(val)\n",
        "\n",
        "      #print(f'temp_list= {temp_list} , tour= {tour}')   # Uncomment for showing the process\n",
        "\n",
        "  # Print tour\n",
        "  to_print =''\n",
        "  for i in tour:\n",
        "    to_print = to_print + str(i) + ' -> '\n",
        "  to_print = to_print + \"Finished!\"\n",
        "\n",
        "  return to_print"
      ],
      "metadata": {
        "id": "rFhjsUNhR-dt"
      },
      "execution_count": null,
      "outputs": []
    },
    {
      "cell_type": "code",
      "source": [
        "!pip install pulp\n",
        "!pip3 install pulp\n",
        "\n",
        "from pulp import *\n",
        "import time"
      ],
      "metadata": {
        "id": "t04BOnXa0tIi",
        "colab": {
          "base_uri": "https://localhost:8080/"
        },
        "outputId": "bcad3c1a-e75a-4e60-e280-a1da1c316325"
      },
      "execution_count": null,
      "outputs": [
        {
          "output_type": "stream",
          "name": "stdout",
          "text": [
            "Collecting pulp\n",
            "  Downloading PuLP-2.7.0-py3-none-any.whl (14.3 MB)\n",
            "\u001b[2K     \u001b[90m━━━━━━━━━━━━━━━━━━━━━━━━━━━━━━━━━━━━━━━━\u001b[0m \u001b[32m14.3/14.3 MB\u001b[0m \u001b[31m36.9 MB/s\u001b[0m eta \u001b[36m0:00:00\u001b[0m\n",
            "\u001b[?25hInstalling collected packages: pulp\n",
            "Successfully installed pulp-2.7.0\n",
            "Requirement already satisfied: pulp in /usr/local/lib/python3.10/dist-packages (2.7.0)\n"
          ]
        }
      ]
    },
    {
      "cell_type": "markdown",
      "source": [
        "## Pulp solver"
      ],
      "metadata": {
        "id": "rVjS5bMrFNAp"
      }
    },
    {
      "cell_type": "code",
      "source": [
        "messages = []\n",
        "\n",
        "# Model\n",
        "tsptw = LpProblem (name=\"TSP\", sense=1)\n",
        "\n",
        "# Creating variables\n",
        "index = range(N+1)  #customers + depot\n",
        "index2 =range(N)    #customers\n",
        "M = 1000000         #big constant\n",
        "\n",
        "x = LpVariable.dicts(\"x\", (index, index), cat=\"Binary\")\n",
        "beta = LpVariable.dicts(\"beta\", (index), lowBound=0)\n",
        "\n",
        "# Objective function\n",
        "tsptw += lpSum (cost_matrix[i][j]*x[i][j] for i in index for j in index), \"Objective\"\n",
        "\n",
        "# Constraints\n",
        "for j in index:\n",
        "  tsptw += lpSum (x[i][j] for i in index if i!= j)==1, f\"constraint-1 | {j}\"\n",
        "\n",
        "for i in index:\n",
        "  tsptw += lpSum (x[i][j] for j in index if i!= j)==1, f\"constraint-2 | {i}\"\n",
        "\n",
        "for j in index:\n",
        "  if j != 0:\n",
        "    for i in index:\n",
        "      tsptw += beta[j] >= beta[i] + cost_matrix[i][j] - M*(1-x[i][j]), f\"constraint-3 | {i} {j}\"\n",
        "\n",
        "for i in index2:\n",
        "  tsptw += time_windows[i][0] <= beta[i] <= time_windows[i][1], f\"constraint-4 | {i}\"\n",
        "\n",
        "# Create file\n",
        "tsptw.writeLP(f\"TSP_{N}.lp\")\n",
        "\n",
        "# Solve the problem\n",
        "tic = time.perf_counter()\n",
        "tsptw.solve()\n",
        "toc = time.perf_counter()\n",
        "\n",
        "# Print statement\n",
        "if tsptw.status == 1:\n",
        "  print(f'Model status: {tsptw.status} -> Solved \\n')\n",
        "else:\n",
        "  raise ValueError(f'Model status: {tsptw.status} It\\'s a PROBLEMS!!')\n",
        "\n",
        "tsp_pulp_value = tsptw.objective.value()\n",
        "tsp_pulp_time = toc-tic\n",
        "\n",
        "print(f\"objective value: {tsp_pulp_value}\\n\")\n",
        "\n",
        "print(f\"total time: {round(tsp_pulp_time,3)} seconds\\n\")\n",
        "\n",
        "\n",
        "# Print all variables\n",
        "tour_var = []\n",
        "\n",
        "for var in tsptw.variables():\n",
        "  print_and_store(f'variable {var.name} has value: {var.value()}', True)\n",
        "  if (var.value() >= 0.9) and (var.name[0] == 'x'):\n",
        "    tour_var.append(var.name)\n",
        "\n",
        "# Get Pulp tour\n",
        "tsp_pulp_tour = printTour(tour_var)\n",
        "print_and_store(f'\\nTSP tour: {tsp_pulp_tour}\\n')"
      ],
      "metadata": {
        "id": "wi0vrEHwE_PV",
        "colab": {
          "base_uri": "https://localhost:8080/"
        },
        "outputId": "4dad45b6-14fb-4da0-8c78-8c2b3fd7efd1"
      },
      "execution_count": null,
      "outputs": [
        {
          "output_type": "stream",
          "name": "stdout",
          "text": [
            "Model status: 1 -> Solved \n",
            "\n",
            "objective value: 20.0\n",
            "\n",
            "total time: 0.052 seconds\n",
            "\n",
            "\n",
            "TSP tour: 0 -> 4 -> 3 -> 2 -> 1 -> 5 -> 0 -> Finished!\n",
            "\n"
          ]
        }
      ]
    },
    {
      "cell_type": "code",
      "source": [
        "save_optimization_results(number_customers=N,\n",
        "                          name_heuristic='Pulp',\n",
        "                          status=tsptw.status,\n",
        "                          objective_value=tsp_pulp_value,\n",
        "                          computing_time=tsp_pulp_time,\n",
        "                          messages=messages)\n"
      ],
      "metadata": {
        "id": "_8pplbBi5XcA"
      },
      "execution_count": null,
      "outputs": []
    },
    {
      "cell_type": "markdown",
      "source": [
        "# Heuristic"
      ],
      "metadata": {
        "id": "j4JVwuUx781L"
      }
    },
    {
      "cell_type": "markdown",
      "source": [
        "## Useful functions\n",
        "\n"
      ],
      "metadata": {
        "id": "Qof81tg-q1Ym"
      }
    },
    {
      "cell_type": "code",
      "source": [
        "!pip install networkx\n",
        "\n",
        "import networkx as nx"
      ],
      "metadata": {
        "colab": {
          "base_uri": "https://localhost:8080/"
        },
        "id": "bqqr7tCullq-",
        "outputId": "05967a73-7fc9-4a44-c381-aa6e5c82f7c6"
      },
      "execution_count": null,
      "outputs": [
        {
          "output_type": "stream",
          "name": "stdout",
          "text": [
            "Requirement already satisfied: networkx in /usr/local/lib/python3.10/dist-packages (3.2)\n"
          ]
        }
      ]
    },
    {
      "cell_type": "code",
      "source": [
        "def a_star(nodes_list, cost_matrix, start, end):\n",
        "\n",
        "  # Create a feaseble path matrix\n",
        "  permutations = list(itertools.permutations(nodes_list, 2))\n",
        "  new_matrix = [[0 for u in range(len(cost_matrix))] for u in range(len(cost_matrix))]\n",
        "\n",
        "  for (i, j) in permutations:\n",
        "    new_matrix[i][j] = cost_matrix[i][j]\n",
        "\n",
        "  have_result = True\n",
        "\n",
        "  # Use A* algorithm\n",
        "  G = nx.Graph()\n",
        "\n",
        "  for i in range(len(new_matrix)):\n",
        "      for j in range(i + 1, len(new_matrix)):\n",
        "          if new_matrix[i][j] > 0:\n",
        "              G.add_edge(i, j, weight=new_matrix[i][j])\n",
        "\n",
        "  try:\n",
        "    path = nx.shortest_path(G, source=start, target=end, weight='weight')\n",
        "    cost = sum(G[u][v]['weight'] for u, v in zip(path[:-1], path[1:]))\n",
        "  except:\n",
        "    have_result = False\n",
        "\n",
        "  if have_result:\n",
        "    return(have_result, path, cost)\n",
        "  else:\n",
        "    return(have_result, 0, 0)"
      ],
      "metadata": {
        "id": "yR67ABP2DhER"
      },
      "execution_count": null,
      "outputs": []
    },
    {
      "cell_type": "code",
      "source": [
        "def check_open_client(sorted_time_windows_dict, beta):\n",
        "  keys_within_beta = [key for key, (start, end) in sorted_time_windows_dict.items() if start <= beta <= end]\n",
        "  return keys_within_beta"
      ],
      "metadata": {
        "id": "jPMN7p0WyqWI"
      },
      "execution_count": null,
      "outputs": []
    },
    {
      "cell_type": "code",
      "source": [
        "def update_temp(temp_list, cost, list_of_passage):\n",
        "  temp_list[0] = cost\n",
        "  temp_list[1] = list_of_passage"
      ],
      "metadata": {
        "id": "eMOh18miKDL5"
      },
      "execution_count": null,
      "outputs": []
    },
    {
      "cell_type": "code",
      "source": [
        "def update_list(temp, sorted_time_windows_dict, tsp_tour):\n",
        "\n",
        "  # Update tour list\n",
        "  if tsp_tour[-1] == temp[1][0]:\n",
        "    tsp_tour.extend(temp[1][1:])\n",
        "  else:\n",
        "    raise ValueError(\"Percorso non compatibile\")\n",
        "\n",
        "  # Clear sorted_time_windows_dict from customers visited\n",
        "  for deleting in tsp_tour:\n",
        "      if deleting in sorted_time_windows_dict:\n",
        "          del sorted_time_windows_dict[deleting]"
      ],
      "metadata": {
        "id": "M2_mW0cMp8YR"
      },
      "execution_count": null,
      "outputs": []
    },
    {
      "cell_type": "markdown",
      "source": [
        "## Heuristic with A*"
      ],
      "metadata": {
        "id": "MZwmUaElKo6E"
      }
    },
    {
      "cell_type": "code",
      "source": [
        "messages = []\n",
        "status_H1=1\n",
        "\n",
        "T = 0\n",
        "delta = max((sum([cost for row in cost_matrix for cost in row])//(len(cost_matrix)**2))//2,2)\n",
        "beta_H1 = 0\n",
        "\n",
        "custumers_to_visit = {i + 1: window for i, window in enumerate(time_windows)}\n",
        "sorted_time_windows_list = sorted(custumers_to_visit.items(), key=lambda item: item[1][1])\n",
        "sorted_time_windows_dict = dict(sorted_time_windows_list)\n",
        "\n",
        "tsp_H1_tour = [0]\n",
        "\n",
        "a_star_times = 0\n",
        "direct_times = 0\n",
        "\n",
        "tic = time.perf_counter()\n",
        "\n",
        "while sorted_time_windows_dict:\n",
        "\n",
        "  temp = [0, list()]  #cost and list of passage\n",
        "  chiave = list(sorted_time_windows_dict.keys())\n",
        "  target = chiave[T]\n",
        "  print_and_store(f'\\nActual max delay: {delta}')\n",
        "  print_and_store(f'Actual T = {T}')\n",
        "  print_and_store(f'Actial beta = {beta_H1}')\n",
        "  print_and_store(f'Actual tour list = {tsp_H1_tour}')\n",
        "  print_and_store(f'Costumer to visit ordered: {list(sorted_time_windows_dict.keys())}')\n",
        "  print_and_store(f'\\nJournet from {tsp_H1_tour[-1]} to {target}\\n')\n",
        "\n",
        "  # Direct cost\n",
        "  direct_cost = cost_matrix[tsp_H1_tour[-1]][target]\n",
        "\n",
        "  # Indirect cost\n",
        "  node_list = check_open_client(sorted_time_windows_dict, beta_H1)\n",
        "  print_and_store(f'Actual open client = {node_list}')\n",
        "  node_list.append(tsp_H1_tour[-1])\n",
        "  node_list.append(target)\n",
        "\n",
        "  indirect_cost = 100000\n",
        "  check_indirect = a_star(node_list, cost_matrix, tsp_H1_tour[-1], target)\n",
        "  if check_indirect[0]:\n",
        "    indirect_cost = check_indirect[2]\n",
        "    print_and_store('Exist a A* path')\n",
        "\n",
        "  # Better path\n",
        "  if indirect_cost < direct_cost:\n",
        "    update_temp(temp, indirect_cost, check_indirect[1])\n",
        "    a_star_times = a_star_times +1\n",
        "    print_and_store(f'The best path is A*, indirect path, and pass throw {temp[1]}, at cost: {temp[0]}')\n",
        "  elif (indirect_cost == direct_cost) and len(check_indirect[1]) == 2:\n",
        "    update_temp(temp, direct_cost, [tsp_H1_tour[-1], target])\n",
        "    direct_times = direct_times+1\n",
        "    print_and_store(f'A* is equal in cost to direct path, and pass throw {temp[1]}, at cost: {temp[0]}')\n",
        "  elif (indirect_cost == direct_cost) and len(check_indirect[1]) > 2:\n",
        "    update_temp(temp, indirect_cost, check_indirect[1])\n",
        "    a_star_times = a_star_times +1\n",
        "    print_and_store(f'A* is equal in cost to direct path but pass throw more element: {temp[1]}, at cost: {temp[0]}')\n",
        "  else:\n",
        "    update_temp(temp, direct_cost, [tsp_H1_tour[-1], target])\n",
        "    direct_times = direct_times+1\n",
        "    print_and_store(f'The best path is direct, and pass throw {temp[1]}, at cost: {temp[0]}')\n",
        "\n",
        "  print_and_store(f'\\nbeta_H1 at position {tsp_H1_tour[-1]} was {beta_H1} and beta_H1 at position {target} is {beta_H1+temp[0]}')\n",
        "  print_and_store(f'Time windows: ai = {sorted_time_windows_dict[target][0]}, bi = {sorted_time_windows_dict[target][1]}')\n",
        "\n",
        "  # Check arrive-windows\n",
        "  if sorted_time_windows_dict[target][0] <= beta_H1+temp[0] <= sorted_time_windows_dict[target][1]:\n",
        "    T=0\n",
        "    beta_H1 = beta_H1 + temp[0]\n",
        "    update_list(temp, sorted_time_windows_dict, tsp_H1_tour)\n",
        "    print_and_store(f'Arrived in time, tour list = {tsp_H1_tour} and beta_H1 = {beta_H1}')\n",
        "  elif not(sorted_time_windows_dict[target][0] <= beta_H1+temp[0]) and (sorted_time_windows_dict[target][0]-delta <= beta_H1+temp[0] <= sorted_time_windows_dict[target][1]):\n",
        "    T=0\n",
        "    delay =  sorted_time_windows_dict[target][0] - (beta_H1+temp[0])\n",
        "    beta_H1 = beta_H1 + delay + temp[0]\n",
        "    update_list(temp, sorted_time_windows_dict, tsp_H1_tour)\n",
        "    print_and_store(f'Arriced in advance and WAIT, tour list = {tsp_H1_tour} and beta_H1 = {beta_H1} with delay: {delay}')\n",
        "  elif not(sorted_time_windows_dict[target][0] <= beta_H1+temp[0]):\n",
        "    print_and_store('Too early, go to nwxt costumer is queue')\n",
        "    T = T +1\n",
        "    if T >= len(sorted_time_windows_dict):\n",
        "      delta = delta + delta//2\n",
        "      T = 0\n",
        "  else:\n",
        "    print_and_store('Infeasible situation encountered.------------------------------------------------------------------')\n",
        "    status_H1 = 0\n",
        "    break\n",
        "\n",
        "  print_and_store('\\n-----------------------------------------------------------------------------------------------')\n",
        "\n",
        "beta_H1 = beta_H1 + cost_matrix[tsp_H1_tour[-1]][0]\n",
        "tsp_H1_tour.append(0)\n",
        "\n",
        "toc = time.perf_counter()\n",
        "tsp_H1_time = toc-tic\n",
        "\n",
        "all_times = a_star_times + direct_times\n",
        "\n",
        "print_and_store('\\nEND\\n')\n",
        "\n",
        "save_optimization_results(number_customers=N,\n",
        "                          name_heuristic='Heuristic with A*',\n",
        "                          status=status_H1,\n",
        "                          objective_value=beta_H1,\n",
        "                          computing_time=tsp_H1_time,\n",
        "                          messages=messages)\n",
        "\n",
        "if status_H1:\n",
        "  print(f'Status: {status_H1}')\n",
        "else:\n",
        "  print((\"Infisible, result saved in txt file\"))\n",
        "  raise ValueError(\"Infisible, result saved in txt file\")"
      ],
      "metadata": {
        "id": "i96vKKj_2SYX",
        "colab": {
          "base_uri": "https://localhost:8080/"
        },
        "outputId": "9f849e8e-80e0-4b56-8504-ebee0d914b93"
      },
      "execution_count": null,
      "outputs": [
        {
          "output_type": "stream",
          "name": "stdout",
          "text": [
            "\n",
            "Actual max delay: 2\n",
            "Actual T = 0\n",
            "Actial beta = 0\n",
            "Actual tour list = [0]\n",
            "Costumer to visit ordered: [4, 3, 1, 2, 5]\n",
            "\n",
            "Journet from 0 to 4\n",
            "\n",
            "Actual open client = []\n",
            "Exist a A* path\n",
            "A* is equal in cost to direct path, and pass throw [0, 4], at cost: 4\n",
            "\n",
            "beta_H1 at position 0 was 0 and beta_H1 at position 4 is 4\n",
            "Time windows: ai = 23, bi = 44\n",
            "Too early, go to nwxt costumer is queue\n",
            "\n",
            "-----------------------------------------------------------------------------------------------\n",
            "\n",
            "Actual max delay: 2\n",
            "Actual T = 1\n",
            "Actial beta = 0\n",
            "Actual tour list = [0]\n",
            "Costumer to visit ordered: [4, 3, 1, 2, 5]\n",
            "\n",
            "Journet from 0 to 3\n",
            "\n",
            "Actual open client = []\n",
            "Exist a A* path\n",
            "A* is equal in cost to direct path, and pass throw [0, 3], at cost: 7\n",
            "\n",
            "beta_H1 at position 0 was 0 and beta_H1 at position 3 is 7\n",
            "Time windows: ai = 16, bi = 64\n",
            "Too early, go to nwxt costumer is queue\n",
            "\n",
            "-----------------------------------------------------------------------------------------------\n",
            "\n",
            "Actual max delay: 2\n",
            "Actual T = 2\n",
            "Actial beta = 0\n",
            "Actual tour list = [0]\n",
            "Costumer to visit ordered: [4, 3, 1, 2, 5]\n",
            "\n",
            "Journet from 0 to 1\n",
            "\n",
            "Actual open client = []\n",
            "Exist a A* path\n",
            "A* is equal in cost to direct path, and pass throw [0, 1], at cost: 9\n",
            "\n",
            "beta_H1 at position 0 was 0 and beta_H1 at position 1 is 9\n",
            "Time windows: ai = 5, bi = 80\n",
            "Arrived in time, tour list = [0, 1] and beta_H1 = 9\n",
            "\n",
            "-----------------------------------------------------------------------------------------------\n",
            "\n",
            "Actual max delay: 2\n",
            "Actual T = 0\n",
            "Actial beta = 9\n",
            "Actual tour list = [0, 1]\n",
            "Costumer to visit ordered: [4, 3, 2, 5]\n",
            "\n",
            "Journet from 1 to 4\n",
            "\n",
            "Actual open client = []\n",
            "Exist a A* path\n",
            "A* is equal in cost to direct path, and pass throw [1, 4], at cost: 8\n",
            "\n",
            "beta_H1 at position 1 was 9 and beta_H1 at position 4 is 17\n",
            "Time windows: ai = 23, bi = 44\n",
            "Too early, go to nwxt costumer is queue\n",
            "\n",
            "-----------------------------------------------------------------------------------------------\n",
            "\n",
            "Actual max delay: 2\n",
            "Actual T = 1\n",
            "Actial beta = 9\n",
            "Actual tour list = [0, 1]\n",
            "Costumer to visit ordered: [4, 3, 2, 5]\n",
            "\n",
            "Journet from 1 to 3\n",
            "\n",
            "Actual open client = []\n",
            "Exist a A* path\n",
            "A* is equal in cost to direct path, and pass throw [1, 3], at cost: 9\n",
            "\n",
            "beta_H1 at position 1 was 9 and beta_H1 at position 3 is 18\n",
            "Time windows: ai = 16, bi = 64\n",
            "Arrived in time, tour list = [0, 1, 3] and beta_H1 = 18\n",
            "\n",
            "-----------------------------------------------------------------------------------------------\n",
            "\n",
            "Actual max delay: 2\n",
            "Actual T = 0\n",
            "Actial beta = 18\n",
            "Actual tour list = [0, 1, 3]\n",
            "Costumer to visit ordered: [4, 2, 5]\n",
            "\n",
            "Journet from 3 to 4\n",
            "\n",
            "Actual open client = []\n",
            "Exist a A* path\n",
            "A* is equal in cost to direct path, and pass throw [3, 4], at cost: 3\n",
            "\n",
            "beta_H1 at position 3 was 18 and beta_H1 at position 4 is 21\n",
            "Time windows: ai = 23, bi = 44\n",
            "Arriced in advance and WAIT, tour list = [0, 1, 3, 4] and beta_H1 = 23 with delay: 2\n",
            "\n",
            "-----------------------------------------------------------------------------------------------\n",
            "\n",
            "Actual max delay: 2\n",
            "Actual T = 0\n",
            "Actial beta = 23\n",
            "Actual tour list = [0, 1, 3, 4]\n",
            "Costumer to visit ordered: [2, 5]\n",
            "\n",
            "Journet from 4 to 2\n",
            "\n",
            "Actual open client = [2]\n",
            "Exist a A* path\n",
            "A* is equal in cost to direct path, and pass throw [4, 2], at cost: 8\n",
            "\n",
            "beta_H1 at position 4 was 23 and beta_H1 at position 2 is 31\n",
            "Time windows: ai = 19, bi = 81\n",
            "Arrived in time, tour list = [0, 1, 3, 4, 2] and beta_H1 = 31\n",
            "\n",
            "-----------------------------------------------------------------------------------------------\n",
            "\n",
            "Actual max delay: 2\n",
            "Actual T = 0\n",
            "Actial beta = 31\n",
            "Actual tour list = [0, 1, 3, 4, 2]\n",
            "Costumer to visit ordered: [5]\n",
            "\n",
            "Journet from 2 to 5\n",
            "\n",
            "Actual open client = [5]\n",
            "Exist a A* path\n",
            "A* is equal in cost to direct path, and pass throw [2, 5], at cost: 3\n",
            "\n",
            "beta_H1 at position 2 was 31 and beta_H1 at position 5 is 34\n",
            "Time windows: ai = 26, bi = 99\n",
            "Arrived in time, tour list = [0, 1, 3, 4, 2, 5] and beta_H1 = 34\n",
            "\n",
            "-----------------------------------------------------------------------------------------------\n",
            "\n",
            "END\n",
            "\n",
            "Status: 1\n"
          ]
        }
      ]
    },
    {
      "cell_type": "markdown",
      "source": [
        "## Heuristic pure (without A*)"
      ],
      "metadata": {
        "id": "4HqJdlZ6KxUX"
      }
    },
    {
      "cell_type": "code",
      "source": [
        "messages = []\n",
        "status_H2=1\n",
        "\n",
        "T = 0\n",
        "delta = max((sum([cost for row in cost_matrix for cost in row])//(len(cost_matrix)**2))//2,2)\n",
        "beta_H2 = 0\n",
        "\n",
        "custumers_to_visit = {i + 1: window for i, window in enumerate(time_windows)}\n",
        "sorted_time_windows_list = sorted(custumers_to_visit.items(), key=lambda item: item[1][1])\n",
        "sorted_time_windows_dict = dict(sorted_time_windows_list)\n",
        "\n",
        "tsp_H2_tour = [0]\n",
        "\n",
        "counter_without_a = 0\n",
        "\n",
        "tic = time.perf_counter()\n",
        "\n",
        "while sorted_time_windows_dict:\n",
        "  temp = [0, list()]  #cost and list of passage\n",
        "  chiave = list(sorted_time_windows_dict.keys())\n",
        "  target = chiave[T]\n",
        "  print_and_store(f'\\nActual max delay: {delta}')\n",
        "  print_and_store(f'Actual T = {T}')\n",
        "  print_and_store(f'Actial beta = {beta_H2}')\n",
        "  print_and_store(f'Actual tour list = {tsp_H2_tour}')\n",
        "  print_and_store(f'Costumer to visit ordered: {list(sorted_time_windows_dict.keys())}')\n",
        "  print_and_store(f'\\nJournet from {tsp_H2_tour[-1]} to {target}\\n')\n",
        "\n",
        "  # Direct cost\n",
        "  direct_cost = cost_matrix[tsp_H2_tour[-1]][target]\n",
        "  update_temp(temp, direct_cost, [tsp_H2_tour[-1], target])\n",
        "  print_and_store(f'Direct path pass throw {temp[1]}, at cost: {temp[0]}')\n",
        "\n",
        "  print_and_store(f'\\nbeta_H2 at position {tsp_H2_tour[-1]} was {beta_H2} and beta_H2 at position {target} is {beta_H2+temp[0]}')\n",
        "  print_and_store(f'Time windows: ai = {sorted_time_windows_dict[target][0]}, bi = {sorted_time_windows_dict[target][1]}')\n",
        "\n",
        "  counter_without_a = counter_without_a+1\n",
        "\n",
        "  # Check arrive-windows\n",
        "  if sorted_time_windows_dict[target][0] <= beta_H2+temp[0] <= sorted_time_windows_dict[target][1]:\n",
        "    T=0\n",
        "    beta_H2 = beta_H2 + temp[0]\n",
        "    update_list(temp, sorted_time_windows_dict, tsp_H2_tour)\n",
        "    print_and_store(f'Arriced in time, tour list = {tsp_H2_tour} and beta_H2 = {beta_H2}')\n",
        "  elif not(sorted_time_windows_dict[target][0] <= beta_H2+temp[0]) and (sorted_time_windows_dict[target][0]-delta <= beta_H2+temp[0] <= sorted_time_windows_dict[target][1]):\n",
        "    T=0\n",
        "    delay =  sorted_time_windows_dict[target][0] - (beta_H2+temp[0])\n",
        "    beta_H2 = beta_H2 + delay + temp[0]\n",
        "    update_list(temp, sorted_time_windows_dict, tsp_H2_tour)\n",
        "    print_and_store(f'Arriced in advance and WAIT, tour list = {tsp_H2_tour} and beta_H1 = {beta_H2} with delay: {delay}')\n",
        "  elif not(sorted_time_windows_dict[target][0] <= beta_H2+temp[0]):\n",
        "    print_and_store('Too early, go to nwxt costumer is queue')\n",
        "    T = T +1\n",
        "    if T >= len(sorted_time_windows_dict):\n",
        "      delta = delta + delta//2\n",
        "      T = 0\n",
        "  else:\n",
        "    print_and_store('Infeasible situation encountered.------------------------------------------------------------------')\n",
        "    status_H2 = 0\n",
        "    break\n",
        "\n",
        "  print_and_store('\\n-----------------------------------------------------------------------------------------------')\n",
        "\n",
        "beta_H2 = beta_H2 + cost_matrix[tsp_H2_tour[-1]][0]\n",
        "tsp_H2_tour.append(0)\n",
        "\n",
        "toc = time.perf_counter()\n",
        "tsp_H2_time = toc-tic\n",
        "\n",
        "print_and_store('\\nEND\\n')\n",
        "\n",
        "save_optimization_results(number_customers=N,\n",
        "                          name_heuristic='Heuristic without A*',\n",
        "                          status=status_H2,\n",
        "                          objective_value=beta_H2,\n",
        "                          computing_time=tsp_H2_time,\n",
        "                          messages=messages)\n",
        "\n",
        "if status_H2:\n",
        "  print(f'Status: {status_H2}')\n",
        "else:\n",
        "  print((\"Infisible, result saved in txt file\"))\n",
        "  raise ValueError(\"Infisible, result saved in txt file\")  #Code Blocking"
      ],
      "metadata": {
        "colab": {
          "base_uri": "https://localhost:8080/"
        },
        "outputId": "85a188c3-54db-4c63-89fe-ff0e611be260",
        "id": "nKYLp5NrK2xm"
      },
      "execution_count": null,
      "outputs": [
        {
          "output_type": "stream",
          "name": "stdout",
          "text": [
            "\n",
            "Actual max delay: 2\n",
            "Actual T = 0\n",
            "Actial beta = 0\n",
            "Actual tour list = [0]\n",
            "Costumer to visit ordered: [4, 3, 1, 2, 5]\n",
            "\n",
            "Journet from 0 to 4\n",
            "\n",
            "Direct path pass throw [0, 4], at cost: 4\n",
            "\n",
            "beta_H2 at position 0 was 0 and beta_H2 at position 4 is 4\n",
            "Time windows: ai = 23, bi = 44\n",
            "Too early, go to nwxt costumer is queue\n",
            "\n",
            "-----------------------------------------------------------------------------------------------\n",
            "\n",
            "Actual max delay: 2\n",
            "Actual T = 1\n",
            "Actial beta = 0\n",
            "Actual tour list = [0]\n",
            "Costumer to visit ordered: [4, 3, 1, 2, 5]\n",
            "\n",
            "Journet from 0 to 3\n",
            "\n",
            "Direct path pass throw [0, 3], at cost: 7\n",
            "\n",
            "beta_H2 at position 0 was 0 and beta_H2 at position 3 is 7\n",
            "Time windows: ai = 16, bi = 64\n",
            "Too early, go to nwxt costumer is queue\n",
            "\n",
            "-----------------------------------------------------------------------------------------------\n",
            "\n",
            "Actual max delay: 2\n",
            "Actual T = 2\n",
            "Actial beta = 0\n",
            "Actual tour list = [0]\n",
            "Costumer to visit ordered: [4, 3, 1, 2, 5]\n",
            "\n",
            "Journet from 0 to 1\n",
            "\n",
            "Direct path pass throw [0, 1], at cost: 9\n",
            "\n",
            "beta_H2 at position 0 was 0 and beta_H2 at position 1 is 9\n",
            "Time windows: ai = 5, bi = 80\n",
            "Arriced in time, tour list = [0, 1] and beta_H2 = 9\n",
            "\n",
            "-----------------------------------------------------------------------------------------------\n",
            "\n",
            "Actual max delay: 2\n",
            "Actual T = 0\n",
            "Actial beta = 9\n",
            "Actual tour list = [0, 1]\n",
            "Costumer to visit ordered: [4, 3, 2, 5]\n",
            "\n",
            "Journet from 1 to 4\n",
            "\n",
            "Direct path pass throw [1, 4], at cost: 8\n",
            "\n",
            "beta_H2 at position 1 was 9 and beta_H2 at position 4 is 17\n",
            "Time windows: ai = 23, bi = 44\n",
            "Too early, go to nwxt costumer is queue\n",
            "\n",
            "-----------------------------------------------------------------------------------------------\n",
            "\n",
            "Actual max delay: 2\n",
            "Actual T = 1\n",
            "Actial beta = 9\n",
            "Actual tour list = [0, 1]\n",
            "Costumer to visit ordered: [4, 3, 2, 5]\n",
            "\n",
            "Journet from 1 to 3\n",
            "\n",
            "Direct path pass throw [1, 3], at cost: 9\n",
            "\n",
            "beta_H2 at position 1 was 9 and beta_H2 at position 3 is 18\n",
            "Time windows: ai = 16, bi = 64\n",
            "Arriced in time, tour list = [0, 1, 3] and beta_H2 = 18\n",
            "\n",
            "-----------------------------------------------------------------------------------------------\n",
            "\n",
            "Actual max delay: 2\n",
            "Actual T = 0\n",
            "Actial beta = 18\n",
            "Actual tour list = [0, 1, 3]\n",
            "Costumer to visit ordered: [4, 2, 5]\n",
            "\n",
            "Journet from 3 to 4\n",
            "\n",
            "Direct path pass throw [3, 4], at cost: 3\n",
            "\n",
            "beta_H2 at position 3 was 18 and beta_H2 at position 4 is 21\n",
            "Time windows: ai = 23, bi = 44\n",
            "Arriced in advance and WAIT, tour list = [0, 1, 3, 4] and beta_H1 = 23 with delay: 2\n",
            "\n",
            "-----------------------------------------------------------------------------------------------\n",
            "\n",
            "Actual max delay: 2\n",
            "Actual T = 0\n",
            "Actial beta = 23\n",
            "Actual tour list = [0, 1, 3, 4]\n",
            "Costumer to visit ordered: [2, 5]\n",
            "\n",
            "Journet from 4 to 2\n",
            "\n",
            "Direct path pass throw [4, 2], at cost: 8\n",
            "\n",
            "beta_H2 at position 4 was 23 and beta_H2 at position 2 is 31\n",
            "Time windows: ai = 19, bi = 81\n",
            "Arriced in time, tour list = [0, 1, 3, 4, 2] and beta_H2 = 31\n",
            "\n",
            "-----------------------------------------------------------------------------------------------\n",
            "\n",
            "Actual max delay: 2\n",
            "Actual T = 0\n",
            "Actial beta = 31\n",
            "Actual tour list = [0, 1, 3, 4, 2]\n",
            "Costumer to visit ordered: [5]\n",
            "\n",
            "Journet from 2 to 5\n",
            "\n",
            "Direct path pass throw [2, 5], at cost: 3\n",
            "\n",
            "beta_H2 at position 2 was 31 and beta_H2 at position 5 is 34\n",
            "Time windows: ai = 26, bi = 99\n",
            "Arriced in time, tour list = [0, 1, 3, 4, 2, 5] and beta_H2 = 34\n",
            "\n",
            "-----------------------------------------------------------------------------------------------\n",
            "\n",
            "END\n",
            "\n",
            "Status: 1\n"
          ]
        }
      ]
    },
    {
      "cell_type": "markdown",
      "source": [
        "# Collection of results"
      ],
      "metadata": {
        "id": "T2UbrQi59LnS"
      }
    },
    {
      "cell_type": "code",
      "source": [
        "messages = []\n",
        "status_lp = tsptw.status\n",
        "\n",
        "print(f'Number of customes: {N}\\n')\n",
        "\n",
        "print_and_store(f'Pulp results:\\n')\n",
        "\n",
        "if status_lp:\n",
        "  print_and_store(f\"objective value: {tsp_pulp_value}\")\n",
        "  print_and_store(f\"calculated in {round(tsp_pulp_time,3)} seconds\")\n",
        "  print_and_store(f\"TSP tour: {tsp_pulp_tour}\")\n",
        "else:\n",
        "  print_and_store(f'Rusult take too long, over 2 hours.')\n",
        "\n",
        "print_and_store('\\n')\n",
        "#----------------------------------------------------------------------\n",
        "\n",
        "print_and_store(f'Heuristic with A* results:\\n')\n",
        "\n",
        "if status_H1:\n",
        "  print_and_store(f\"objective value: {beta_H1}\")\n",
        "  print_and_store(f\"calculated in {round(tsp_H1_time,3)} seconds\")\n",
        "  print_and_store(f'Total number of iterative cycle: {all_times}, A* is used {a_star_times} times and direct path is used {direct_times}')\n",
        "\n",
        "  # print_and_store tour\n",
        "  to_print =''\n",
        "  for i in tsp_H1_tour:\n",
        "    to_print = to_print + str(i) + ' -> '\n",
        "  to_print = to_print + \"Finished!\"\n",
        "  print_and_store(f'TSP tour: {to_print}')\n",
        "\n",
        "else:\n",
        "  print_and_store(f'Rusult is infisible')\n",
        "\n",
        "print_and_store('\\n')\n",
        "#----------------------------------------------------------------------\n",
        "\n",
        "print_and_store('Heuristic pure (without A*) results:\\n')\n",
        "\n",
        "if status_H2:\n",
        "  print_and_store(f\"objective value:  {beta_H2}\")\n",
        "  print_and_store(f'calculated in {round(tsp_H2_time,3)} seconds')\n",
        "  print_and_store(f'Number of iterative cycle {counter_without_a}')\n",
        "\n",
        "  # Print tour\n",
        "  to_print =''\n",
        "  for i in tsp_H2_tour:\n",
        "    to_print = to_print + str(i) + ' -> '\n",
        "  to_print = to_print + \"Finished!\"\n",
        "  print_and_store(f\"TSP tour: {to_print}\")\n",
        "else:\n",
        "  print_and_store(f'Rusult is infisible')"
      ],
      "metadata": {
        "colab": {
          "base_uri": "https://localhost:8080/"
        },
        "id": "w3DBo5rs8Coa",
        "outputId": "a3e808b3-2731-4c10-d95d-de40478f58fa"
      },
      "execution_count": null,
      "outputs": [
        {
          "output_type": "stream",
          "name": "stdout",
          "text": [
            "Number of customes: 5\n",
            "\n",
            "Pulp results:\n",
            "\n",
            "objective value: 20.0\n",
            "calculated in 0.052 seconds\n",
            "TSP tour: 0 -> 4 -> 3 -> 2 -> 1 -> 5 -> 0 -> Finished!\n",
            "\n",
            "\n",
            "Heuristic with A* results:\n",
            "\n",
            "objective value: 37\n",
            "calculated in 0.013 seconds\n",
            "Total number of iterative cycle: 8, A* is used 0 times and direct path is used 8\n",
            "TSP tour: 0 -> 1 -> 3 -> 4 -> 2 -> 5 -> 0 -> Finished!\n",
            "\n",
            "\n",
            "Heuristic pure (without A*) results:\n",
            "\n",
            "objective value:  37\n",
            "calculated in 0.02 seconds\n",
            "Number of iterative cycle 8\n",
            "TSP tour: 0 -> 1 -> 3 -> 4 -> 2 -> 5 -> 0 -> Finished!\n"
          ]
        }
      ]
    },
    {
      "cell_type": "code",
      "source": [
        "def calculate_and_print_and_store_comparison(a_value, b_value, a_time, b_time, name_a, name_b):\n",
        "    value_difference = a_value - b_value\n",
        "    time_difference = a_time - b_time\n",
        "\n",
        "    percent_value_difference = (value_difference / b_value) * 100\n",
        "    percent_time_difference = (time_difference / b_time) * 100\n",
        "\n",
        "    if value_difference > 0:\n",
        "        print_and_store(f'{name_a} has a higher value by {round(abs(percent_value_difference), 1)}% compared to {name_b} objective value.')\n",
        "    else:\n",
        "        print_and_store(f'{name_a} has a lower value by {round(abs(percent_value_difference), 1)}% compared to {name_b} objective value.')\n",
        "\n",
        "    if time_difference < 0:\n",
        "        print_and_store(f'{name_a} is faster by {round(abs(percent_time_difference), 1)}% compared to {name_b} time.')\n",
        "    else:\n",
        "        print_and_store(f'{name_a} is slower by {round(abs(percent_time_difference), 1)}% compared to {name_b} time.')\n",
        "\n",
        "if status_lp or (status_H1 and status_H2):\n",
        "  print_and_store('\\n\\n------------------Comparative results------------------ \\n')\n",
        "\n",
        "  if status_H1 and status_lp:\n",
        "    # Comparisons between Pulp and H1\n",
        "    calculate_and_print_and_store_comparison(tsp_pulp_value, beta_H1, tsp_pulp_time, tsp_H1_time, 'Pulp', 'Heuristic A* H1')\n",
        "\n",
        "    print_and_store('\\n')\n",
        "\n",
        "  if status_H1 and status_H2:\n",
        "    # Comparisons between H1 and H2\n",
        "    calculate_and_print_and_store_comparison(beta_H1, beta_H2, tsp_H1_time, tsp_H2_time, 'Heuristic A* H1', 'Heuristic H2')\n",
        "\n",
        "    usage_of_a_start = round(((a_star_times)/all_times) *100,2)\n",
        "    usage_vs_unusage_of_a_start =  round(((a_star_times)/counter_without_a) *100,2)\n",
        "\n",
        "    print_and_store(f'A* path is prefered {usage_of_a_start}% times comparated of direct path')\n",
        "    print_and_store(f'Adding a A* heuristic reduce {usage_vs_unusage_of_a_start}% the number of cycle than not using it')\n",
        "\n",
        "    print_and_store('\\n')\n",
        "\n",
        "  if status_H2 and status_lp:\n",
        "    # Comparisons between Pulp and H2\n",
        "    calculate_and_print_and_store_comparison(tsp_pulp_value, beta_H2, tsp_pulp_time, tsp_H2_time, 'Pulp', 'Heuristic H2')\n"
      ],
      "metadata": {
        "colab": {
          "base_uri": "https://localhost:8080/"
        },
        "id": "KI27F5mbG4Ol",
        "outputId": "e5fcf835-1b66-45d5-fd94-2efa779ea3be"
      },
      "execution_count": null,
      "outputs": [
        {
          "output_type": "stream",
          "name": "stdout",
          "text": [
            "\n",
            "\n",
            "------------------Comparative results------------------ \n",
            "\n",
            "Pulp has a lower value by 45.9% compared to Heuristic A* H1 objective value.\n",
            "Pulp is slower by 291.3% compared to Heuristic A* H1 time.\n",
            "\n",
            "\n",
            "Heuristic A* H1 has a lower value by 0.0% compared to Heuristic H2 objective value.\n",
            "Heuristic A* H1 is faster by 32.8% compared to Heuristic H2 time.\n",
            "A* path is prefered 0.0% times comparated of direct path\n",
            "Adding a A* heuristic reduce 0.0% the number of cycle than not using it\n",
            "\n",
            "\n",
            "Pulp has a lower value by 45.9% compared to Heuristic H2 objective value.\n",
            "Pulp is slower by 162.9% compared to Heuristic H2 time.\n"
          ]
        }
      ]
    },
    {
      "cell_type": "code",
      "source": [
        "# Save results into a file\n",
        "def save_results(number_customers, name, messages):\n",
        "    variables = \"\\n\".join(messages)\n",
        "\n",
        "    results_str = (\n",
        "        f\"Instance Name: {name}\\n\"\n",
        "        f\"Number of Clients: {number_customers}\\n\"\n",
        "        f\"\\n{variables}\"\n",
        "    )\n",
        "\n",
        "    file_name = f\"{name}_{number_customers}.txt\"\n",
        "\n",
        "    with open(file_name, 'w') as file:\n",
        "        file.write(results_str)\n",
        "\n",
        "save_results(number_customers=N,\n",
        "             name='Comparation_results',\n",
        "             messages=messages)"
      ],
      "metadata": {
        "id": "uvWIm4b-z-Gx"
      },
      "execution_count": null,
      "outputs": []
    }
  ]
}